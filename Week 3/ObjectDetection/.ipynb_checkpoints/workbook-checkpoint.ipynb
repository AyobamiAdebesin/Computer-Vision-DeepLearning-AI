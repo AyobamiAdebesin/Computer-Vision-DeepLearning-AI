{
 "cells": [
  {
   "cell_type": "code",
   "execution_count": null,
   "id": "b8a3497c",
   "metadata": {},
   "outputs": [],
   "source": [
    "import tensorflow as tf\n",
    "import numpy as np\n",
    "\n",
    "from tensorflow.keras.layers import Input, Conv2D, MaxPooling2D, Dropout\n",
    "from tensorflow.keras.layers import Conv2DTranspose, concatenate"
   ]
  },
  {
   "cell_type": "code",
   "execution_count": null,
   "id": "3c529eee",
   "metadata": {},
   "outputs": [],
   "source": [
    "import os\n",
    "import pandas as pd\n",
    "import imageio\n",
    "import matplotlib.pyplot as plt\n",
    "%matplotlib inline\n",
    "\n",
    "path = ''\n",
    "image_path = os.path.join(path, './data/CameraRGB/')\n",
    "mask_path = os.path.join(path, './data/CameraMask/')\n",
    "image_list = os.listdir(image_path)\n",
    "mask_list = os.listdir(mask_path)\n",
    "image_list = [image_path + i for i in image_list]"
   ]
  },
  {
   "cell_type": "code",
   "execution_count": null,
   "id": "cc719dc3",
   "metadata": {},
   "outputs": [],
   "source": []
  }
 ],
 "metadata": {
  "kernelspec": {
   "display_name": "Python 3 (ipykernel)",
   "language": "python",
   "name": "python3"
  },
  "language_info": {
   "codemirror_mode": {
    "name": "ipython",
    "version": 3
   },
   "file_extension": ".py",
   "mimetype": "text/x-python",
   "name": "python",
   "nbconvert_exporter": "python",
   "pygments_lexer": "ipython3",
   "version": "3.9.7"
  }
 },
 "nbformat": 4,
 "nbformat_minor": 5
}
