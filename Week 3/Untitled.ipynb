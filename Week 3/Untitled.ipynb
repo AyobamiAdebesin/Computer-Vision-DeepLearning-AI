{
 "cells": [
  {
   "cell_type": "code",
   "execution_count": 4,
   "id": "3cf4915a",
   "metadata": {},
   "outputs": [],
   "source": [
    "import argparse\n",
    "import os\n",
    "import matplotlib.pyplot as plt\n",
    "from matplotlib.pyplot import imshow\n",
    "import scipy.io\n",
    "import scipy.misc\n",
    "import numpy as np\n",
    "import pandas as pd\n",
    "import PIL\n",
    "from PIL import ImageFont, ImageDraw, Image\n",
    "import tensorflow as tf\n",
    "import tensorflow.keras\n",
    "from tensorflow.python.framework.ops import EagerTensor\n",
    "\n",
    "from tensorflow.keras.models import load_model\n",
    "# from yad2k.models.keras_yolo import yolo_head\n",
    "# from yad2k.utils.utils import draw_boxes, get_colors_for_classes\n",
    "# from yad2k.utils.utils import scale_boxes, scale_boxes, read_classes\n",
    "# from yad2k.utils.utils import read_anchors, preprocess_image"
   ]
  },
  {
   "cell_type": "code",
   "execution_count": 5,
   "id": "51c79a07",
   "metadata": {},
   "outputs": [],
   "source": [
    "# Implement yolo filter boxes\n",
    "# 1)Compute box scores by doing the element twise product (pxc_i)\n",
    "# 2) Foe each box find the index xof the class with the maximum box score"
   ]
  },
  {
   "cell_type": "code",
   "execution_count": 129,
   "id": "19f02065",
   "metadata": {},
   "outputs": [],
   "source": [
    "def mask_fun(data, threshold):\n",
    "    #zeros = np.zeros((data.shape[0], data.shape[1], data.shape[2]))\n",
    "    mask = list()\n",
    "    for k in range(data.shape[2]):\n",
    "        if data[:, :, k].any() >= threshold:\n",
    "            mask.append(True)\n",
    "        elif data[:, :, k].any() < threshold:\n",
    "            mask.append(False)\n",
    "    return mask"
   ]
  },
  {
   "cell_type": "code",
   "execution_count": 130,
   "id": "415a35f2",
   "metadata": {},
   "outputs": [],
   "source": [
    "def yolo_filter_boxes(boxes, box_confidence, box_class_probs, threshold = 30):\n",
    "    # gives you the class scores for each box\n",
    "    box_scores = box_confidence * box_class_probs\n",
    "    \n",
    "    # gives you the index with the highest score\n",
    "    box_classes = tf.math.argmax(box_scores, axis=-1).numpy()\n",
    "    \n",
    "    box_class_score = tf.math.reduce_max(box_scores, axis=-1).numpy()\n",
    "    #box_class_score = np.array([box_scores[i, :][box_classes.numpy()[i]] for i in range(len(box_classes.numpy()))])\n",
    "    \n",
    "    #Step 3: Create a filtering mask based on \"box_class_scores\" by using \"threshold\". The mask should have the\n",
    "    # same dimension as box_class_scores, and be True for the boxes you want to keep (with probability >= threshold)\n",
    "    \n",
    "    # filtering mask\n",
    "    filtering_mask = box_class_score\n",
    "    \n",
    "    \n",
    "    return box_scores, box_classes, box_class_score, filtering_mask"
   ]
  },
  {
   "cell_type": "code",
   "execution_count": 131,
   "id": "aac4f3fc",
   "metadata": {},
   "outputs": [],
   "source": [
    "box_confidence = tf.random.normal([19, 19, 5, 1], mean=1, stddev=4, seed = 1)\n",
    "boxes = tf.random.normal([19, 19, 5, 4], mean=1, stddev=4, seed = 1)\n",
    "box_class_probs = tf.random.normal([19, 19, 5, 80], mean=1, stddev=4, seed = 1)"
   ]
  },
  {
   "cell_type": "code",
   "execution_count": 132,
   "id": "fed6e0b3",
   "metadata": {},
   "outputs": [],
   "source": [
    "b_scores, b_classes, b_class_sc, fm = yolo_filter_boxes(boxes, box_confidence, box_class_probs)"
   ]
  },
  {
   "cell_type": "code",
   "execution_count": null,
   "id": "37bf0e0b",
   "metadata": {},
   "outputs": [],
   "source": []
  },
  {
   "cell_type": "code",
   "execution_count": null,
   "id": "f2263c7f",
   "metadata": {},
   "outputs": [],
   "source": [
    "def iou(box1, box2):\n",
    "    \n",
    "    (box1_x1, box1_y1, box1_x2, box1_y2) = box1\n",
    "    (box2_x1, box2_y1, box2_x2, box2_y2) = box2\n",
    "    \n",
    "    x\n",
    "    "
   ]
  }
 ],
 "metadata": {
  "kernelspec": {
   "display_name": "Python 3 (ipykernel)",
   "language": "python",
   "name": "python3"
  },
  "language_info": {
   "codemirror_mode": {
    "name": "ipython",
    "version": 3
   },
   "file_extension": ".py",
   "mimetype": "text/x-python",
   "name": "python",
   "nbconvert_exporter": "python",
   "pygments_lexer": "ipython3",
   "version": "3.9.7"
  }
 },
 "nbformat": 4,
 "nbformat_minor": 5
}
