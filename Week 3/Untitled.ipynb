{
 "cells": [
  {
   "cell_type": "code",
   "execution_count": 1,
   "id": "3cf4915a",
   "metadata": {},
   "outputs": [],
   "source": [
    "import argparse\n",
    "import os\n",
    "import matplotlib.pyplot as plt\n",
    "from matplotlib.pyplot import imshow\n",
    "import scipy.io\n",
    "import scipy.misc\n",
    "import numpy as np\n",
    "import pandas as pd\n",
    "import PIL\n",
    "from PIL import ImageFont, ImageDraw, Image\n",
    "import tensorflow as tf\n",
    "import tensorflow.keras\n",
    "from tensorflow.python.framework.ops import EagerTensor\n",
    "\n",
    "from tensorflow.keras.models import load_model\n",
    "# from yad2k.models.keras_yolo import yolo_head\n",
    "# from yad2k.utils.utils import draw_boxes, get_colors_for_classes\n",
    "# from yad2k.utils.utils import scale_boxes, scale_boxes, read_classes\n",
    "# from yad2k.utils.utils import read_anchors, preprocess_image"
   ]
  },
  {
   "cell_type": "code",
   "execution_count": 2,
   "id": "51c79a07",
   "metadata": {},
   "outputs": [],
   "source": [
    "# Implement yolo filter boxes\n",
    "# 1)Compute box scores by doing the element twise product (pxc_i)\n",
    "# 2) Foe each box find the index xof the class with the maximum box score"
   ]
  },
  {
   "cell_type": "code",
   "execution_count": 56,
   "id": "415a35f2",
   "metadata": {},
   "outputs": [],
   "source": [
    "def yolo_filter_boxes(box_confidence, box_class_probs, threshold = 0.6):\n",
    "    # gives you the class scores for each box\n",
    "    box_scores = box_confidence * box_class_probs\n",
    "    \n",
    "    # gives you the index with the highest score\n",
    "    box_classes = tf.math.argmax(box_scores, axis=-1)\n",
    "    \n",
    "    #box_class_score = tf.math.reduce_max(box_scores, axis=-1).numpy()\n",
    "    box_class_score = np.array([box_scores[i, :][box_classes.numpy()[i]] for i in range(len(box_classes.numpy()))])\n",
    "    \n",
    "    # filtering mask\n",
    "    \n",
    "    \n",
    "    return box_scores, box_classes, box_class_score"
   ]
  },
  {
   "cell_type": "code",
   "execution_count": 57,
   "id": "aac4f3fc",
   "metadata": {},
   "outputs": [
    {
     "name": "stdout",
     "output_type": "stream",
     "text": [
      "Shape of a:  (5, 1)\n",
      "Shape of b:  (5, 3)\n"
     ]
    }
   ],
   "source": [
    "a = np.array([\n",
    "    [1],\n",
    "    [2],\n",
    "    [3],\n",
    "    [4],\n",
    "    [5]\n",
    "])\n",
    "b = np.array([\n",
    "    [1,2,3],\n",
    "    [0,1,3],\n",
    "    [2,1,3],\n",
    "    [9,2,1],\n",
    "    [7,4,2],\n",
    "])\n",
    "print('Shape of a: ', a.shape)\n",
    "print('Shape of b: ', b.shape)"
   ]
  },
  {
   "cell_type": "code",
   "execution_count": 58,
   "id": "85735847",
   "metadata": {},
   "outputs": [],
   "source": [
    "b_scores, b_classes, b_class_sc = yolo_filter_boxes(a, b)"
   ]
  },
  {
   "cell_type": "code",
   "execution_count": 59,
   "id": "4f31d971",
   "metadata": {},
   "outputs": [
    {
     "data": {
      "text/plain": [
       "array([[ 1,  2,  3],\n",
       "       [ 0,  2,  6],\n",
       "       [ 6,  3,  9],\n",
       "       [36,  8,  4],\n",
       "       [35, 20, 10]])"
      ]
     },
     "execution_count": 59,
     "metadata": {},
     "output_type": "execute_result"
    }
   ],
   "source": [
    "b_scores"
   ]
  },
  {
   "cell_type": "code",
   "execution_count": 66,
   "id": "06be4eeb",
   "metadata": {},
   "outputs": [
    {
     "data": {
      "text/plain": [
       "array([[ 3],\n",
       "       [ 6],\n",
       "       [ 9],\n",
       "       [36],\n",
       "       [35]])"
      ]
     },
     "execution_count": 66,
     "metadata": {},
     "output_type": "execute_result"
    }
   ],
   "source": [
    "b_class_sc.reshape(5,1)"
   ]
  },
  {
   "cell_type": "code",
   "execution_count": 82,
   "id": "fc893669",
   "metadata": {},
   "outputs": [],
   "source": [
    "def mask_func(data):\n",
    "    out = np.zeros(data.shape)\n",
    "    for i, x in enumerate(data):\n",
    "        if x < 20:\n",
    "            out[i] = True \n",
    "        else:\n",
    "            out[i] = False\n",
    "    return out"
   ]
  },
  {
   "cell_type": "code",
   "execution_count": 87,
   "id": "37bf0e0b",
   "metadata": {},
   "outputs": [],
   "source": [
    "def mask_fun(data):\n",
    "    out = list()\n",
    "    for i, x in enumerate(data):\n",
    "        if x < 20:\n",
    "            out.append(True) \n",
    "        else:\n",
    "            out.append(False)\n",
    "    return out"
   ]
  },
  {
   "cell_type": "code",
   "execution_count": 88,
   "id": "4f4670a9",
   "metadata": {},
   "outputs": [
    {
     "data": {
      "text/plain": [
       "[True, True, True, False, False]"
      ]
     },
     "execution_count": 88,
     "metadata": {},
     "output_type": "execute_result"
    }
   ],
   "source": [
    "mask_fun(b_class_sc)"
   ]
  },
  {
   "cell_type": "code",
   "execution_count": 89,
   "id": "0ec13f72",
   "metadata": {},
   "outputs": [
    {
     "data": {
      "text/plain": [
       "[True, True, True, True, True]"
      ]
     },
     "execution_count": 89,
     "metadata": {},
     "output_type": "execute_result"
    }
   ],
   "source": [
    "mask_fun(b_classes)"
   ]
  },
  {
   "cell_type": "code",
   "execution_count": null,
   "id": "b6e09d23",
   "metadata": {},
   "outputs": [],
   "source": [
    "mask_fun()"
   ]
  },
  {
   "cell_type": "code",
   "execution_count": null,
   "id": "023b3337",
   "metadata": {},
   "outputs": [],
   "source": [
    "# implement iou\n"
   ]
  },
  {
   "cell_type": "code",
   "execution_count": null,
   "id": "dfdd5454",
   "metadata": {},
   "outputs": [],
   "source": []
  },
  {
   "cell_type": "code",
   "execution_count": null,
   "id": "d61fc114",
   "metadata": {},
   "outputs": [],
   "source": []
  },
  {
   "cell_type": "code",
   "execution_count": null,
   "id": "49204bc9",
   "metadata": {},
   "outputs": [],
   "source": []
  },
  {
   "cell_type": "code",
   "execution_count": 97,
   "id": "b736f640",
   "metadata": {},
   "outputs": [
    {
     "data": {
      "text/plain": [
       "<tf.Tensor: shape=(2,), dtype=float32, numpy=array([0.9, 0.5], dtype=float32)>"
      ]
     },
     "execution_count": 97,
     "metadata": {},
     "output_type": "execute_result"
    }
   ],
   "source": [
    "tf.boolean_mask([0.9, 0.3, 0.4, 0.5, 0.1], np.array([True, False, False, True, False]))"
   ]
  },
  {
   "cell_type": "code",
   "execution_count": 104,
   "id": "45aa3de9",
   "metadata": {},
   "outputs": [],
   "source": [
    "mask = np.array([True, True])"
   ]
  },
  {
   "cell_type": "code",
   "execution_count": 105,
   "id": "fe7c9997",
   "metadata": {},
   "outputs": [
    {
     "data": {
      "text/plain": [
       "(2,)"
      ]
     },
     "execution_count": 105,
     "metadata": {},
     "output_type": "execute_result"
    }
   ],
   "source": [
    "mask.shape"
   ]
  },
  {
   "cell_type": "code",
   "execution_count": 106,
   "id": "6f9e9a55",
   "metadata": {},
   "outputs": [
    {
     "data": {
      "text/plain": [
       "<tf.Tensor: shape=(2,), dtype=int32, numpy=array([0, 2])>"
      ]
     },
     "execution_count": 106,
     "metadata": {},
     "output_type": "execute_result"
    }
   ],
   "source": [
    "tensor = [0,1,2,3]\n",
    "mask = np.array([True, False, True, False])\n",
    "tf.boolean_mask(tensor, mask)"
   ]
  },
  {
   "cell_type": "code",
   "execution_count": 109,
   "id": "cbcd0f48",
   "metadata": {},
   "outputs": [],
   "source": [
    "#Create a filtering mask based on \"box_class_scores\" by using \"threshold\". The mask should have the\n",
    "# same dimension as box_class_scores, and be True for the boxes you want to keep (with probability >= threshold)\n",
    "mask = np.zeros(np.array(f).shape)"
   ]
  },
  {
   "cell_type": "code",
   "execution_count": 111,
   "id": "1f3802fd",
   "metadata": {},
   "outputs": [
    {
     "data": {
      "text/plain": [
       "(5,)"
      ]
     },
     "execution_count": 111,
     "metadata": {},
     "output_type": "execute_result"
    }
   ],
   "source": [
    "mask.shape"
   ]
  },
  {
   "cell_type": "code",
   "execution_count": null,
   "id": "543c6156",
   "metadata": {},
   "outputs": [],
   "source": []
  }
 ],
 "metadata": {
  "kernelspec": {
   "display_name": "Python 3 (ipykernel)",
   "language": "python",
   "name": "python3"
  },
  "language_info": {
   "codemirror_mode": {
    "name": "ipython",
    "version": 3
   },
   "file_extension": ".py",
   "mimetype": "text/x-python",
   "name": "python",
   "nbconvert_exporter": "python",
   "pygments_lexer": "ipython3",
   "version": "3.9.7"
  }
 },
 "nbformat": 4,
 "nbformat_minor": 5
}
