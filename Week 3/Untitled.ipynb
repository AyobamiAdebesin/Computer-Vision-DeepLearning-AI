{
 "cells": [
  {
   "cell_type": "code",
   "execution_count": 5,
   "id": "3cf4915a",
   "metadata": {},
   "outputs": [],
   "source": [
    "import argparse\n",
    "import os\n",
    "import matplotlib.pyplot as plt\n",
    "from matplotlib.pyplot import imshow\n",
    "import scipy.io\n",
    "import scipy.misc\n",
    "import numpy as np\n",
    "import pandas as pd\n",
    "import PIL\n",
    "from PIL import ImageFont, ImageDraw, Image\n",
    "import tensorflow as tf\n",
    "import tensorflow.keras\n",
    "from tensorflow.python.framework.ops import EagerTensor\n",
    "\n",
    "from tensorflow.keras.models import load_model\n",
    "# from yad2k.models.keras_yolo import yolo_head\n",
    "# from yad2k.utils.utils import draw_boxes, get_colors_for_classes\n",
    "# from yad2k.utils.utils import scale_boxes, scale_boxes, read_classes\n",
    "# from yad2k.utils.utils import read_anchors, preprocess_image"
   ]
  },
  {
   "cell_type": "code",
   "execution_count": 6,
   "id": "51c79a07",
   "metadata": {},
   "outputs": [],
   "source": [
    "# Implement yolo filter boxes\n",
    "# 1)Compute box scores by doing the element twise product (pxc_i)\n",
    "# 2) Foe each box find the index xof the class with the maximum box score"
   ]
  },
  {
   "cell_type": "code",
   "execution_count": 82,
   "id": "415a35f2",
   "metadata": {},
   "outputs": [],
   "source": [
    "def yolo_filter_boxes(box_confidence, box_class_probs, threshold = 0.6):\n",
    "    box_scores = box_confidence * box_class_probs\n",
    "    box_classes = tf.math.argmax(box_scores, axis=-1)\n",
    "    box_class = tf.math.reduce_max(box_scores)\n",
    "    box_scores_max = [c[i, :][d_arr[i]] for i in range(len(box_classes.numpy()))]\n",
    "    return box_scores, box_classes, box_class, box_scores_max"
   ]
  },
  {
   "cell_type": "code",
   "execution_count": 83,
   "id": "aac4f3fc",
   "metadata": {},
   "outputs": [
    {
     "name": "stdout",
     "output_type": "stream",
     "text": [
      "Shape of a:  (5, 1)\n",
      "Shape of b:  (5, 3)\n"
     ]
    }
   ],
   "source": [
    "a = np.array([\n",
    "    [1],\n",
    "    [2],\n",
    "    [3],\n",
    "    [4],\n",
    "    [5]\n",
    "])\n",
    "b = np.array([\n",
    "    [1,2,3],\n",
    "    [0,1,3],\n",
    "    [2,1,3],\n",
    "    [9,2,1],\n",
    "    [7,4,2],\n",
    "])\n",
    "print('Shape of a: ', a.shape)\n",
    "print('Shape of b: ', b.shape)"
   ]
  },
  {
   "cell_type": "code",
   "execution_count": 85,
   "id": "85735847",
   "metadata": {},
   "outputs": [],
   "source": [
    "c, d , e, f= yolo_filter_boxes(a, b)"
   ]
  },
  {
   "cell_type": "code",
   "execution_count": 86,
   "id": "4f31d971",
   "metadata": {},
   "outputs": [
    {
     "name": "stdout",
     "output_type": "stream",
     "text": [
      "[[ 1  2  3]\n",
      " [ 0  2  6]\n",
      " [ 6  3  9]\n",
      " [36  8  4]\n",
      " [35 20 10]]\n",
      "(5, 3)\n"
     ]
    }
   ],
   "source": [
    "print(c)\n",
    "print(c.shape)\n"
   ]
  },
  {
   "cell_type": "code",
   "execution_count": 87,
   "id": "06be4eeb",
   "metadata": {},
   "outputs": [
    {
     "data": {
      "text/plain": [
       "<tf.Tensor: shape=(5,), dtype=int64, numpy=array([2, 2, 2, 0, 0], dtype=int64)>"
      ]
     },
     "execution_count": 87,
     "metadata": {},
     "output_type": "execute_result"
    }
   ],
   "source": [
    "(d)"
   ]
  },
  {
   "cell_type": "code",
   "execution_count": 88,
   "id": "fc893669",
   "metadata": {},
   "outputs": [
    {
     "name": "stdout",
     "output_type": "stream",
     "text": [
      "tf.Tensor(36, shape=(), dtype=int32)\n",
      "()\n"
     ]
    }
   ],
   "source": [
    "print(e)\n",
    "print(e.shape)"
   ]
  },
  {
   "cell_type": "code",
   "execution_count": 89,
   "id": "37bf0e0b",
   "metadata": {},
   "outputs": [
    {
     "data": {
      "text/plain": [
       "36"
      ]
     },
     "execution_count": 89,
     "metadata": {},
     "output_type": "execute_result"
    }
   ],
   "source": [
    "e.numpy()"
   ]
  },
  {
   "cell_type": "code",
   "execution_count": 90,
   "id": "0ec13f72",
   "metadata": {},
   "outputs": [],
   "source": [
    "d_arr = d.numpy()"
   ]
  },
  {
   "cell_type": "code",
   "execution_count": 91,
   "id": "b6e09d23",
   "metadata": {},
   "outputs": [
    {
     "data": {
      "text/plain": [
       "array([2, 2, 2, 0, 0], dtype=int64)"
      ]
     },
     "execution_count": 91,
     "metadata": {},
     "output_type": "execute_result"
    }
   ],
   "source": [
    "d_arr"
   ]
  },
  {
   "cell_type": "code",
   "execution_count": 92,
   "id": "023b3337",
   "metadata": {},
   "outputs": [
    {
     "data": {
      "text/plain": [
       "array([6, 3, 9])"
      ]
     },
     "execution_count": 92,
     "metadata": {},
     "output_type": "execute_result"
    }
   ],
   "source": [
    "c[d_arr[0], :]"
   ]
  },
  {
   "cell_type": "code",
   "execution_count": 93,
   "id": "dfdd5454",
   "metadata": {},
   "outputs": [
    {
     "data": {
      "text/plain": [
       "2"
      ]
     },
     "execution_count": 93,
     "metadata": {},
     "output_type": "execute_result"
    }
   ],
   "source": [
    "d_arr[0]"
   ]
  },
  {
   "cell_type": "code",
   "execution_count": 81,
   "id": "d61fc114",
   "metadata": {},
   "outputs": [
    {
     "data": {
      "text/plain": [
       "6"
      ]
     },
     "execution_count": 81,
     "metadata": {},
     "output_type": "execute_result"
    }
   ],
   "source": [
    "c[1, :][d_arr[1]]"
   ]
  },
  {
   "cell_type": "code",
   "execution_count": 94,
   "id": "49204bc9",
   "metadata": {},
   "outputs": [
    {
     "data": {
      "text/plain": [
       "[3, 6, 9, 36, 35]"
      ]
     },
     "execution_count": 94,
     "metadata": {},
     "output_type": "execute_result"
    }
   ],
   "source": [
    "f"
   ]
  },
  {
   "cell_type": "code",
   "execution_count": 97,
   "id": "b736f640",
   "metadata": {},
   "outputs": [
    {
     "data": {
      "text/plain": [
       "<tf.Tensor: shape=(2,), dtype=float32, numpy=array([0.9, 0.5], dtype=float32)>"
      ]
     },
     "execution_count": 97,
     "metadata": {},
     "output_type": "execute_result"
    }
   ],
   "source": [
    "tf.boolean_mask([0.9, 0.3, 0.4, 0.5, 0.1], np.array([True, False, False, True, False]))"
   ]
  },
  {
   "cell_type": "code",
   "execution_count": 104,
   "id": "45aa3de9",
   "metadata": {},
   "outputs": [],
   "source": [
    "mask = np.array([True, True])"
   ]
  },
  {
   "cell_type": "code",
   "execution_count": 105,
   "id": "fe7c9997",
   "metadata": {},
   "outputs": [
    {
     "data": {
      "text/plain": [
       "(2,)"
      ]
     },
     "execution_count": 105,
     "metadata": {},
     "output_type": "execute_result"
    }
   ],
   "source": [
    "mask.shape"
   ]
  },
  {
   "cell_type": "code",
   "execution_count": 106,
   "id": "6f9e9a55",
   "metadata": {},
   "outputs": [
    {
     "data": {
      "text/plain": [
       "<tf.Tensor: shape=(2,), dtype=int32, numpy=array([0, 2])>"
      ]
     },
     "execution_count": 106,
     "metadata": {},
     "output_type": "execute_result"
    }
   ],
   "source": [
    "tensor = [0,1,2,3]\n",
    "mask = np.array([True, False, True, False])\n",
    "tf.boolean_mask(tensor, mask)"
   ]
  },
  {
   "cell_type": "code",
   "execution_count": 109,
   "id": "cbcd0f48",
   "metadata": {},
   "outputs": [],
   "source": [
    "#Create a filtering mask based on \"box_class_scores\" by using \"threshold\". The mask should have the\n",
    "# same dimension as box_class_scores, and be True for the boxes you want to keep (with probability >= threshold)\n",
    "mask = np.zeros(np.array(f).shape)"
   ]
  },
  {
   "cell_type": "code",
   "execution_count": 111,
   "id": "1f3802fd",
   "metadata": {},
   "outputs": [
    {
     "data": {
      "text/plain": [
       "(5,)"
      ]
     },
     "execution_count": 111,
     "metadata": {},
     "output_type": "execute_result"
    }
   ],
   "source": [
    "mask.shape"
   ]
  },
  {
   "cell_type": "code",
   "execution_count": null,
   "id": "543c6156",
   "metadata": {},
   "outputs": [],
   "source": []
  }
 ],
 "metadata": {
  "kernelspec": {
   "display_name": "Python 3 (ipykernel)",
   "language": "python",
   "name": "python3"
  },
  "language_info": {
   "codemirror_mode": {
    "name": "ipython",
    "version": 3
   },
   "file_extension": ".py",
   "mimetype": "text/x-python",
   "name": "python",
   "nbconvert_exporter": "python",
   "pygments_lexer": "ipython3",
   "version": "3.9.7"
  }
 },
 "nbformat": 4,
 "nbformat_minor": 5
}
