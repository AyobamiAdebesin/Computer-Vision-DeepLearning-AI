{
 "cells": [
  {
   "cell_type": "code",
   "execution_count": 1,
   "id": "3cf4915a",
   "metadata": {},
   "outputs": [],
   "source": [
    "import argparse\n",
    "import os\n",
    "import matplotlib.pyplot as plt\n",
    "from matplotlib.pyplot import imshow\n",
    "import scipy.io\n",
    "import scipy.misc\n",
    "import numpy as np\n",
    "import pandas as pd\n",
    "import PIL\n",
    "from PIL import ImageFont, ImageDraw, Image\n",
    "import tensorflow as tf\n",
    "import tensorflow.keras\n",
    "from tensorflow.python.framework.ops import EagerTensor\n",
    "\n",
    "from tensorflow.keras.models import load_model\n",
    "# from yad2k.models.keras_yolo import yolo_head\n",
    "# from yad2k.utils.utils import draw_boxes, get_colors_for_classes\n",
    "# from yad2k.utils.utils import scale_boxes, scale_boxes, read_classes\n",
    "# from yad2k.utils.utils import read_anchors, preprocess_image"
   ]
  },
  {
   "cell_type": "code",
   "execution_count": 2,
   "id": "51c79a07",
   "metadata": {},
   "outputs": [],
   "source": [
    "# Implement yolo filter boxes\n",
    "# 1)Compute box scores by doing the element twise product (pxc_i)\n",
    "# 2) Foe each box find the index xof the class with the maximum box score"
   ]
  },
  {
   "cell_type": "code",
   "execution_count": 86,
   "id": "415a35f2",
   "metadata": {},
   "outputs": [],
   "source": [
    "def yolo_filter_boxes(boxes, box_confidence, box_class_probs, threshold = 0.6):\n",
    "    # gives you the class scores for each box\n",
    "    box_scores = box_confidence * box_class_probs\n",
    "    \n",
    "    # gives you the index with the highest score\n",
    "    box_classes = tf.math.argmax(box_scores, axis=-1)\n",
    "    \n",
    "    box_class_score = tf.math.reduce_max(box_scores, axis=-1)\n",
    "    #box_class_score = np.array([box_scores[i, :][box_classes.numpy()[i]] for i in range(len(box_classes.numpy()))])\n",
    "    \n",
    "    # filtering mask\n",
    "    \n",
    "    \n",
    "    return box_scores, box_classes, box_class_score"
   ]
  },
  {
   "cell_type": "code",
   "execution_count": 87,
   "id": "aac4f3fc",
   "metadata": {},
   "outputs": [],
   "source": [
    "box_confidence = tf.random.normal([19, 19, 5, 1], mean=1, stddev=4, seed = 1)\n",
    "boxes = tf.random.normal([19, 19, 5, 4], mean=1, stddev=4, seed = 1)\n",
    "box_class_probs = tf.random.normal([19, 19, 5, 80], mean=1, stddev=4, seed = 1)"
   ]
  },
  {
   "cell_type": "code",
   "execution_count": 182,
   "id": "58d4faf3",
   "metadata": {},
   "outputs": [
    {
     "data": {
      "text/plain": [
       "<tf.Tensor: shape=(), dtype=float32, numpy=13.406618>"
      ]
     },
     "execution_count": 182,
     "metadata": {},
     "output_type": "execute_result"
    }
   ],
   "source": [
    "box_class_probs[0, 0, 0, 77]\n"
   ]
  },
  {
   "cell_type": "code",
   "execution_count": 185,
   "id": "4defcada",
   "metadata": {},
   "outputs": [
    {
     "data": {
      "text/plain": [
       "<tf.Tensor: shape=(1,), dtype=float32, numpy=array([3.2492223], dtype=float32)>"
      ]
     },
     "execution_count": 185,
     "metadata": {},
     "output_type": "execute_result"
    }
   ],
   "source": [
    "box_confidence[0,0, 0]"
   ]
  },
  {
   "cell_type": "code",
   "execution_count": 186,
   "id": "c7e21f44",
   "metadata": {},
   "outputs": [
    {
     "data": {
      "text/plain": [
       "43.5610821731814"
      ]
     },
     "execution_count": 186,
     "metadata": {},
     "output_type": "execute_result"
    }
   ],
   "source": [
    "3.2492223*13.406618"
   ]
  },
  {
   "cell_type": "code",
   "execution_count": 102,
   "id": "cf6f9fd1",
   "metadata": {},
   "outputs": [],
   "source": [
    "b_scores, b_classes, b_class_sc = yolo_filter_boxes(boxes, box_confidence, box_class_probs)"
   ]
  },
  {
   "cell_type": "code",
   "execution_count": null,
   "id": "4f31d971",
   "metadata": {},
   "outputs": [],
   "source": []
  },
  {
   "cell_type": "code",
   "execution_count": 168,
   "id": "06be4eeb",
   "metadata": {},
   "outputs": [
    {
     "data": {
      "text/plain": [
       "<tf.Tensor: shape=(5,), dtype=int64, numpy=array([77, 10, 46, 62, 34], dtype=int64)>"
      ]
     },
     "execution_count": 168,
     "metadata": {},
     "output_type": "execute_result"
    }
   ],
   "source": [
    "b_classes[0,0,0:]"
   ]
  },
  {
   "cell_type": "code",
   "execution_count": 178,
   "id": "72b5cb7d",
   "metadata": {},
   "outputs": [
    {
     "data": {
      "text/plain": [
       "<tf.Tensor: shape=(), dtype=float32, numpy=43.56108>"
      ]
     },
     "execution_count": 178,
     "metadata": {},
     "output_type": "execute_result"
    }
   ],
   "source": [
    "b_class_sc[0,0, 0]"
   ]
  },
  {
   "cell_type": "code",
   "execution_count": null,
   "id": "1626613b",
   "metadata": {},
   "outputs": [],
   "source": []
  },
  {
   "cell_type": "code",
   "execution_count": 143,
   "id": "37bf0e0b",
   "metadata": {},
   "outputs": [],
   "source": [
    "def mask_fun(data, threshold=0.6):\n",
    "    data_numpy = data.numpy()\n",
    "    out = list()\n",
    "    i = 0\n",
    "    while i < data_numpy.shape[2]:\n",
    "        for x in data_numpy[0, 0, i]:\n",
    "            if x < threshold:\n",
    "                out.append(True) \n",
    "            else:\n",
    "                out.append(False)\n",
    "        i+=1\n",
    "    return out"
   ]
  },
  {
   "cell_type": "code",
   "execution_count": null,
   "id": "e29c5d98",
   "metadata": {},
   "outputs": [],
   "source": []
  },
  {
   "cell_type": "code",
   "execution_count": 145,
   "id": "4f4670a9",
   "metadata": {},
   "outputs": [
    {
     "data": {
      "text/plain": [
       "95"
      ]
     },
     "execution_count": 145,
     "metadata": {},
     "output_type": "execute_result"
    }
   ],
   "source": [
    "mask_value = mask_fun(b_class_sc)\n",
    "len(mask_value)"
   ]
  },
  {
   "cell_type": "code",
   "execution_count": 57,
   "id": "0ec13f72",
   "metadata": {},
   "outputs": [
    {
     "data": {
      "text/plain": [
       "[True, True, True, True, True]"
      ]
     },
     "execution_count": 57,
     "metadata": {},
     "output_type": "execute_result"
    }
   ],
   "source": [
    "mask_fun(b_classes)"
   ]
  },
  {
   "cell_type": "code",
   "execution_count": 70,
   "id": "dfdd5454",
   "metadata": {},
   "outputs": [
    {
     "data": {
      "text/plain": [
       "<tf.Tensor: shape=(3,), dtype=int64, numpy=array([2, 2, 2], dtype=int64)>"
      ]
     },
     "execution_count": 70,
     "metadata": {},
     "output_type": "execute_result"
    }
   ],
   "source": [
    "tf.boolean_mask(b_classes, mask_value)"
   ]
  },
  {
   "cell_type": "code",
   "execution_count": 71,
   "id": "d61fc114",
   "metadata": {},
   "outputs": [
    {
     "data": {
      "text/plain": [
       "<tf.Tensor: shape=(3,), dtype=int32, numpy=array([3, 6, 9])>"
      ]
     },
     "execution_count": 71,
     "metadata": {},
     "output_type": "execute_result"
    }
   ],
   "source": [
    "tf.boolean_mask(b_class_sc, mask_value)"
   ]
  },
  {
   "cell_type": "code",
   "execution_count": 72,
   "id": "49204bc9",
   "metadata": {},
   "outputs": [
    {
     "data": {
      "text/plain": [
       "<tf.Tensor: shape=(3, 3), dtype=int32, numpy=\n",
       "array([[1, 2, 3],\n",
       "       [0, 2, 6],\n",
       "       [6, 3, 9]])>"
      ]
     },
     "execution_count": 72,
     "metadata": {},
     "output_type": "execute_result"
    }
   ],
   "source": [
    "tf.boolean_mask(b_scores, mask_value)"
   ]
  },
  {
   "cell_type": "code",
   "execution_count": 77,
   "id": "b736f640",
   "metadata": {},
   "outputs": [
    {
     "data": {
      "text/plain": [
       "<tf.Tensor: shape=(2,), dtype=float32, numpy=array([0.9, 0.5], dtype=float32)>"
      ]
     },
     "execution_count": 77,
     "metadata": {},
     "output_type": "execute_result"
    }
   ],
   "source": [
    "tf.boolean_mask([0.9, 0.3, 0.4, 0.5, 0.1], np.array([True, False, False, True, False]))"
   ]
  },
  {
   "cell_type": "code",
   "execution_count": 104,
   "id": "45aa3de9",
   "metadata": {},
   "outputs": [],
   "source": [
    "mask = np.array([True, True])"
   ]
  },
  {
   "cell_type": "code",
   "execution_count": 105,
   "id": "fe7c9997",
   "metadata": {},
   "outputs": [
    {
     "data": {
      "text/plain": [
       "(2,)"
      ]
     },
     "execution_count": 105,
     "metadata": {},
     "output_type": "execute_result"
    }
   ],
   "source": [
    "mask.shape"
   ]
  },
  {
   "cell_type": "code",
   "execution_count": 106,
   "id": "6f9e9a55",
   "metadata": {},
   "outputs": [
    {
     "data": {
      "text/plain": [
       "<tf.Tensor: shape=(2,), dtype=int32, numpy=array([0, 2])>"
      ]
     },
     "execution_count": 106,
     "metadata": {},
     "output_type": "execute_result"
    }
   ],
   "source": [
    "tensor = [0,1,2,3]\n",
    "mask = np.array([True, False, True, False])\n",
    "tf.boolean_mask(tensor, mask)"
   ]
  },
  {
   "cell_type": "code",
   "execution_count": 109,
   "id": "cbcd0f48",
   "metadata": {},
   "outputs": [],
   "source": [
    "#Create a filtering mask based on \"box_class_scores\" by using \"threshold\". The mask should have the\n",
    "# same dimension as box_class_scores, and be True for the boxes you want to keep (with probability >= threshold)\n",
    "mask = np.zeros(np.array(f).shape)"
   ]
  },
  {
   "cell_type": "code",
   "execution_count": 111,
   "id": "1f3802fd",
   "metadata": {},
   "outputs": [
    {
     "data": {
      "text/plain": [
       "(5,)"
      ]
     },
     "execution_count": 111,
     "metadata": {},
     "output_type": "execute_result"
    }
   ],
   "source": [
    "mask.shape"
   ]
  },
  {
   "cell_type": "code",
   "execution_count": null,
   "id": "543c6156",
   "metadata": {},
   "outputs": [],
   "source": []
  }
 ],
 "metadata": {
  "kernelspec": {
   "display_name": "Python 3 (ipykernel)",
   "language": "python",
   "name": "python3"
  },
  "language_info": {
   "codemirror_mode": {
    "name": "ipython",
    "version": 3
   },
   "file_extension": ".py",
   "mimetype": "text/x-python",
   "name": "python",
   "nbconvert_exporter": "python",
   "pygments_lexer": "ipython3",
   "version": "3.9.7"
  }
 },
 "nbformat": 4,
 "nbformat_minor": 5
}
