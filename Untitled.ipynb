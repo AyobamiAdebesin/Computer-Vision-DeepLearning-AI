{
 "cells": [
  {
   "cell_type": "code",
   "execution_count": 7,
   "id": "714aebbc",
   "metadata": {},
   "outputs": [
    {
     "name": "stdout",
     "output_type": "stream",
     "text": [
      "X_train shape is (1437, 64)\n",
      "X_test shape is (360, 64)\n",
      "y_train shape is (1437,)\n",
      "y_test shape is (360,)\n",
      "Epoch 1/50\n",
      "12/12 [==============================] - 1s 7ms/step - loss: 1.9434 - accuracy: 0.5936\n",
      "Epoch 2/50\n",
      "12/12 [==============================] - 0s 5ms/step - loss: 0.3462 - accuracy: 0.8921\n",
      "Epoch 3/50\n",
      "12/12 [==============================] - 0s 4ms/step - loss: 0.2212 - accuracy: 0.9367\n",
      "Epoch 4/50\n",
      "12/12 [==============================] - 0s 5ms/step - loss: 0.2220 - accuracy: 0.9318\n",
      "Epoch 5/50\n",
      "12/12 [==============================] - 0s 4ms/step - loss: 0.1014 - accuracy: 0.9694\n",
      "Epoch 6/50\n",
      "12/12 [==============================] - 0s 5ms/step - loss: 0.1487 - accuracy: 0.9492\n",
      "Epoch 7/50\n",
      "12/12 [==============================] - 0s 4ms/step - loss: 0.0724 - accuracy: 0.9805\n",
      "Epoch 8/50\n",
      "12/12 [==============================] - 0s 5ms/step - loss: 0.1480 - accuracy: 0.9569\n",
      "Epoch 9/50\n",
      "12/12 [==============================] - 0s 5ms/step - loss: 0.0431 - accuracy: 0.9910\n",
      "Epoch 10/50\n",
      "12/12 [==============================] - 0s 4ms/step - loss: 0.1100 - accuracy: 0.9756\n",
      "Epoch 11/50\n",
      "12/12 [==============================] - 0s 4ms/step - loss: 0.0637 - accuracy: 0.9833\n",
      "Epoch 12/50\n",
      "12/12 [==============================] - 0s 4ms/step - loss: 0.0596 - accuracy: 0.9805\n",
      "Epoch 13/50\n",
      "12/12 [==============================] - 0s 4ms/step - loss: 0.0533 - accuracy: 0.9812\n",
      "Epoch 14/50\n",
      "12/12 [==============================] - 0s 5ms/step - loss: 0.0477 - accuracy: 0.9861\n",
      "Epoch 15/50\n",
      "12/12 [==============================] - 0s 6ms/step - loss: 0.0142 - accuracy: 0.9958\n",
      "Epoch 16/50\n",
      "12/12 [==============================] - 0s 4ms/step - loss: 0.0695 - accuracy: 0.9791\n",
      "Epoch 17/50\n",
      "12/12 [==============================] - 0s 4ms/step - loss: 0.0084 - accuracy: 0.9993\n",
      "Epoch 18/50\n",
      "12/12 [==============================] - 0s 4ms/step - loss: 0.0572 - accuracy: 0.9819\n",
      "Epoch 19/50\n",
      "12/12 [==============================] - 0s 5ms/step - loss: 0.0061 - accuracy: 0.9993\n",
      "Epoch 20/50\n",
      "12/12 [==============================] - 0s 4ms/step - loss: 0.0472 - accuracy: 0.9854\n",
      "Epoch 21/50\n",
      "12/12 [==============================] - 0s 4ms/step - loss: 0.0081 - accuracy: 0.9986\n",
      "Epoch 22/50\n",
      "12/12 [==============================] - 0s 4ms/step - loss: 0.0033 - accuracy: 1.0000\n",
      "Epoch 23/50\n",
      "12/12 [==============================] - 0s 4ms/step - loss: 0.0027 - accuracy: 1.0000\n",
      "Epoch 24/50\n",
      "12/12 [==============================] - 0s 6ms/step - loss: 0.0528 - accuracy: 0.9805\n",
      "Epoch 25/50\n",
      "12/12 [==============================] - 0s 5ms/step - loss: 0.0033 - accuracy: 0.9993\n",
      "Epoch 26/50\n",
      "12/12 [==============================] - 0s 4ms/step - loss: 0.0375 - accuracy: 0.9875\n",
      "Epoch 27/50\n",
      "12/12 [==============================] - 0s 5ms/step - loss: 0.0020 - accuracy: 0.9993\n",
      "Epoch 28/50\n",
      "12/12 [==============================] - 0s 4ms/step - loss: 0.0013 - accuracy: 1.0000\n",
      "Epoch 29/50\n",
      "12/12 [==============================] - 0s 4ms/step - loss: 9.3694e-04 - accuracy: 1.0000\n",
      "Epoch 30/50\n",
      "12/12 [==============================] - 0s 4ms/step - loss: 0.0235 - accuracy: 0.9944\n",
      "Epoch 31/50\n",
      "12/12 [==============================] - 0s 4ms/step - loss: 0.0099 - accuracy: 0.9986\n",
      "Epoch 32/50\n",
      "12/12 [==============================] - 0s 5ms/step - loss: 9.0981e-04 - accuracy: 1.0000\n",
      "Epoch 33/50\n",
      "12/12 [==============================] - 0s 5ms/step - loss: 0.0545 - accuracy: 0.9875\n",
      "Epoch 34/50\n",
      "12/12 [==============================] - ETA: 0s - loss: 0.0019 - accuracy: 1.00 - 0s 4ms/step - loss: 0.0019 - accuracy: 1.0000\n",
      "Epoch 35/50\n",
      "12/12 [==============================] - 0s 4ms/step - loss: 7.8176e-04 - accuracy: 1.0000\n",
      "Epoch 36/50\n",
      "12/12 [==============================] - 0s 5ms/step - loss: 4.1089e-04 - accuracy: 1.0000\n",
      "Epoch 37/50\n",
      "12/12 [==============================] - 0s 5ms/step - loss: 0.0102 - accuracy: 0.9951\n",
      "Epoch 38/50\n",
      "12/12 [==============================] - 0s 4ms/step - loss: 7.6272e-04 - accuracy: 1.0000\n",
      "Epoch 39/50\n",
      "12/12 [==============================] - 0s 3ms/step - loss: 4.6193e-04 - accuracy: 1.0000\n",
      "Epoch 40/50\n",
      "12/12 [==============================] - 0s 4ms/step - loss: 2.8035e-04 - accuracy: 1.0000\n",
      "Epoch 41/50\n",
      "12/12 [==============================] - 0s 4ms/step - loss: 0.0029 - accuracy: 0.9993\n",
      "Epoch 42/50\n",
      "12/12 [==============================] - 0s 5ms/step - loss: 0.0150 - accuracy: 0.9958\n",
      "Epoch 43/50\n",
      "12/12 [==============================] - 0s 7ms/step - loss: 9.6602e-04 - accuracy: 1.0000\n",
      "Epoch 44/50\n",
      "12/12 [==============================] - 0s 8ms/step - loss: 2.2919e-04 - accuracy: 1.0000\n",
      "Epoch 45/50\n",
      "12/12 [==============================] - 0s 4ms/step - loss: 1.8553e-04 - accuracy: 1.0000\n",
      "Epoch 46/50\n",
      "12/12 [==============================] - 0s 4ms/step - loss: 1.9214e-04 - accuracy: 1.0000\n",
      "Epoch 47/50\n",
      "12/12 [==============================] - 0s 4ms/step - loss: 1.7606e-04 - accuracy: 1.0000\n",
      "Epoch 48/50\n",
      "12/12 [==============================] - 0s 4ms/step - loss: 0.0282 - accuracy: 0.9875\n",
      "Epoch 49/50\n",
      "12/12 [==============================] - 0s 5ms/step - loss: 7.5060e-04 - accuracy: 1.0000\n",
      "Epoch 50/50\n",
      "12/12 [==============================] - 0s 7ms/step - loss: 1.2841e-04 - accuracy: 1.0000\n",
      "12/12 [==============================] - 0s 2ms/step - loss: 0.0261 - accuracy: 0.9944\n"
     ]
    }
   ],
   "source": [
    "import numpy as np\n",
    "#import matplotlib.pyplot as plt\n",
    "#import pandas as pd\n",
    "import sklearn\n",
    "import tensorflow as tf\n",
    "import tensorflow.keras\n",
    "\n",
    "from sklearn.model_selection import train_test_split\n",
    "from tensorflow.keras.datasets import mnist\n",
    "from sklearn.datasets import load_digits, load_boston, load_breast_cancer\n",
    "\n",
    "# Load the data\n",
    "data = load_digits().data\n",
    "target = load_digits().target\n",
    "\n",
    "# Split the data\n",
    "X_train, X_test, y_train, y_test = train_test_split(data, target, test_size=0.2) \n",
    "\n",
    "# Check properties of the data\n",
    "print('X_train shape is {x}'.format(x = X_train.shape))\n",
    "print('X_test shape is {x}'.format(x = X_test.shape))\n",
    "print('y_train shape is {x}'.format(x = y_train.shape))\n",
    "print('y_test shape is {x}'.format(x = y_test.shape))\n",
    "\n",
    "# Import models\n",
    "from tensorflow.keras import models\n",
    "from tensorflow.keras import layers\n",
    "\n",
    "# Instantiate a model\n",
    "network = models.Sequential()\n",
    "network.add(layers.Dense(512, activation='relu', input_shape=(X_train.shape[1],)))\n",
    "network.add(layers.Dense(10, activation='softmax'))\n",
    "\n",
    "# Compile the model\n",
    "network.compile(optimizer='rmsprop', loss='categorical_crossentropy', metrics=['accuracy'])\n",
    "\n",
    "# Prepare the labels\n",
    "from tensorflow.keras.utils import to_categorical\n",
    "\n",
    "y_train_cat = to_categorical(y_train)\n",
    "y_test_cat = to_categorical(y_test)\n",
    "\n",
    "# Train the model\n",
    "network.fit(X_train, y_train_cat, epochs=50, batch_size=128)\n",
    "\n",
    "# Evaluate on the test set\n",
    "test_loss, test_acc = network.evaluate(X_test, y_test_cat)"
   ]
  },
  {
   "cell_type": "code",
   "execution_count": 50,
   "id": "50053314",
   "metadata": {},
   "outputs": [],
   "source": [
    "# Scalars\n",
    "x = np.array(12)\n",
    "\n",
    "# Vectors\n",
    "y = np.array([12, 3,5, 6,7,7])"
   ]
  },
  {
   "cell_type": "code",
   "execution_count": 53,
   "id": "88901bd4",
   "metadata": {},
   "outputs": [
    {
     "data": {
      "text/plain": [
       "dtype('int32')"
      ]
     },
     "execution_count": 53,
     "metadata": {},
     "output_type": "execute_result"
    }
   ],
   "source": [
    "x.dtype"
   ]
  },
  {
   "cell_type": "code",
   "execution_count": 39,
   "id": "e74eaff2",
   "metadata": {},
   "outputs": [
    {
     "name": "stdout",
     "output_type": "stream",
     "text": [
      "1\n",
      "(6,)\n"
     ]
    }
   ],
   "source": [
    "print(y.ndim)\n",
    "print(y.shape)"
   ]
  },
  {
   "cell_type": "code",
   "execution_count": 40,
   "id": "42b719dc",
   "metadata": {},
   "outputs": [],
   "source": [
    "# 2D tensors\n",
    "z = np.array([[5,3,2,1],\n",
    "              [3,2,3,4],\n",
    "              [7,3,2,1]])"
   ]
  },
  {
   "cell_type": "code",
   "execution_count": 42,
   "id": "225ef3aa",
   "metadata": {},
   "outputs": [
    {
     "name": "stdout",
     "output_type": "stream",
     "text": [
      "2\n",
      "(3, 4)\n",
      "[[5 3 2 1]\n",
      " [3 2 3 4]\n",
      " [7 3 2 1]]\n"
     ]
    }
   ],
   "source": [
    "print(z.ndim)\n",
    "print(z.shape)\n",
    "print(z)"
   ]
  },
  {
   "cell_type": "code",
   "execution_count": 47,
   "id": "ec12361a",
   "metadata": {},
   "outputs": [],
   "source": [
    "w = np.array([[[5,78,2,34,0],\n",
    "               [6,79,3,35,1],\n",
    "               [7,80,4,36,2]],\n",
    "              [[5,78,2,34,0],\n",
    "               [6,79,3,35,1],\n",
    "               [7,80,4,36,2]],\n",
    "              [[5,78,2,34,0],\n",
    "               [6,79,3,35,1],\n",
    "               [7,80,4,36,2]]])"
   ]
  },
  {
   "cell_type": "code",
   "execution_count": 49,
   "id": "6927df0c",
   "metadata": {},
   "outputs": [
    {
     "data": {
      "text/plain": [
       "3"
      ]
     },
     "execution_count": 49,
     "metadata": {},
     "output_type": "execute_result"
    }
   ],
   "source": [
    "w.ndim"
   ]
  },
  {
   "cell_type": "code",
   "execution_count": 65,
   "id": "18a4dc21",
   "metadata": {},
   "outputs": [],
   "source": [
    "# Manipulating tensors\n",
    "my_slice = X_train"
   ]
  },
  {
   "cell_type": "code",
   "execution_count": 69,
   "id": "22d5d50a",
   "metadata": {},
   "outputs": [],
   "source": [
    "my_slice = my_slice.reshape(X_train.shape[0], 8, 8)"
   ]
  },
  {
   "cell_type": "code",
   "execution_count": 75,
   "id": "d3c8aa7e",
   "metadata": {},
   "outputs": [],
   "source": [
    "my_slice1 = my_slice[:, 4:, 4:]"
   ]
  },
  {
   "cell_type": "code",
   "execution_count": 81,
   "id": "b0131072",
   "metadata": {},
   "outputs": [
    {
     "data": {
      "text/plain": [
       "3"
      ]
     },
     "execution_count": 81,
     "metadata": {},
     "output_type": "execute_result"
    }
   ],
   "source": [
    "my_slice1.ndim"
   ]
  },
  {
   "cell_type": "code",
   "execution_count": 85,
   "id": "35e56e4b",
   "metadata": {},
   "outputs": [],
   "source": [
    "# first batch\n",
    "batch1 = my_slice[:128]\n",
    "batch2 = my_slice[128:256]\n",
    "\n",
    "# batchn = my_slice[128*n:128*(n+1)] # for n = 0, 1,2,3..."
   ]
  },
  {
   "cell_type": "code",
   "execution_count": 43,
   "id": "cd076bee",
   "metadata": {},
   "outputs": [],
   "source": [
    "# Tensor operations\n",
    "def naive_relu(x):\n",
    "#     assert len(x.shape) == 2\n",
    "    while len(x.shape) != 2:\n",
    "        return 'Please enter a 2d tensor'\n",
    "    x = x.copy()\n",
    "    for i in range(x.shape[0]):\n",
    "        for j in range(x.shape[1]):\n",
    "            x[i,j] = max(x[i,j], 0)\n",
    "    return x"
   ]
  },
  {
   "cell_type": "code",
   "execution_count": 28,
   "id": "d2e6af86",
   "metadata": {},
   "outputs": [],
   "source": [
    "x = np.array([[1,-2,3],\n",
    "              [2,3,4],\n",
    "              [3,-4,5]])"
   ]
  },
  {
   "cell_type": "code",
   "execution_count": 44,
   "id": "1f54e153",
   "metadata": {},
   "outputs": [],
   "source": [
    "y = np.array([[[1,2,3],\n",
    "               [2,3,4],\n",
    "               [3,4,5]],\n",
    "              [[0,0,1],\n",
    "               [1,2,3],\n",
    "               [8,6,4]]])"
   ]
  },
  {
   "cell_type": "code",
   "execution_count": 48,
   "id": "7df30788",
   "metadata": {},
   "outputs": [
    {
     "data": {
      "text/plain": [
       "'Please enter a 2d tensor'"
      ]
     },
     "execution_count": 48,
     "metadata": {},
     "output_type": "execute_result"
    }
   ],
   "source": [
    "naive_relu(y)"
   ]
  },
  {
   "cell_type": "code",
   "execution_count": 51,
   "id": "370a518c",
   "metadata": {},
   "outputs": [],
   "source": [
    "def relu_function(x):\n",
    "    while len(x.shape) != 2:\n",
    "        return 'Please enter a 2d tensor'\n",
    "    x_new = x.copy()\n",
    "    for i in range(x_new.shape[0]):\n",
    "        for j in range(x_new.shape[1]):\n",
    "            x_new[i,j] = max(x[i,j], 0)\n",
    "    return x_new"
   ]
  },
  {
   "cell_type": "code",
   "execution_count": 64,
   "id": "6ef1c554",
   "metadata": {},
   "outputs": [],
   "source": [
    "def naive_add(x, y):\n",
    "    while len(x.shape) != 2:\n",
    "        return 'Enter a 2D tensor'\n",
    "    while x.shape != y.shape:\n",
    "        return 'x and y must have the same shape!'\n",
    "    out = x.copy()\n",
    "    for i in range(x.shape[0]):\n",
    "        for j in range(x.shape[1]):\n",
    "            out[i,j] = x[i,j] + y[i,j]\n",
    "    return out"
   ]
  },
  {
   "cell_type": "code",
   "execution_count": 67,
   "id": "7c048294",
   "metadata": {},
   "outputs": [
    {
     "data": {
      "text/plain": [
       "array([[ 2, -4,  6],\n",
       "       [ 4,  6,  8],\n",
       "       [ 6, -8, 10]])"
      ]
     },
     "execution_count": 67,
     "metadata": {},
     "output_type": "execute_result"
    }
   ],
   "source": [
    "naive_add(x,u)"
   ]
  },
  {
   "cell_type": "code",
   "execution_count": 71,
   "id": "7ddb2244",
   "metadata": {},
   "outputs": [
    {
     "data": {
      "text/plain": [
       "array([[ 2,  0,  6],\n",
       "       [ 4,  6,  8],\n",
       "       [ 6,  0, 10]])"
      ]
     },
     "execution_count": 71,
     "metadata": {},
     "output_type": "execute_result"
    }
   ],
   "source": [
    "relu_function(z)"
   ]
  },
  {
   "cell_type": "code",
   "execution_count": 70,
   "id": "5fc0ccf4",
   "metadata": {},
   "outputs": [
    {
     "data": {
      "text/plain": [
       "array([[ 2,  0,  6],\n",
       "       [ 4,  6,  8],\n",
       "       [ 6,  0, 10]])"
      ]
     },
     "execution_count": 70,
     "metadata": {},
     "output_type": "execute_result"
    }
   ],
   "source": [
    "np.maximum(z,0)"
   ]
  },
  {
   "cell_type": "code",
   "execution_count": 113,
   "id": "a83549dd",
   "metadata": {},
   "outputs": [],
   "source": [
    "# Broadcasting:\n",
    "\n",
    "def naive_broadcast(x, y):\n",
    "    \"\"\"\n",
    "    x is a tensor and y is a vector\n",
    "    \"\"\"\n",
    "    assert len(x.shape) == 2\n",
    "    assert len(y.shape) == 1\n",
    "    while y.shape[0] != x.shape[1]:\n",
    "        return 'Number of rows of y must equal number of columns of x'\n",
    "    x = x.copy()\n",
    "    for i in range(x.shape[0]):\n",
    "        for j in range(x.shape[1]):\n",
    "            x[i, j] = y[j]\n",
    "    return x"
   ]
  },
  {
   "cell_type": "code",
   "execution_count": 114,
   "id": "33b9c7d5",
   "metadata": {},
   "outputs": [],
   "source": [
    "y = np.array([1,2,3])"
   ]
  },
  {
   "cell_type": "code",
   "execution_count": 115,
   "id": "88b2fb98",
   "metadata": {},
   "outputs": [],
   "source": [
    "x = np.array([[1,-2,3],\n",
    "              [2,3,4],\n",
    "              [3,-4,5]])"
   ]
  },
  {
   "cell_type": "code",
   "execution_count": 116,
   "id": "b39264bc",
   "metadata": {},
   "outputs": [
    {
     "name": "stdout",
     "output_type": "stream",
     "text": [
      "Shape of X: (3, 3)\n",
      "Shape of Y: (3,)\n"
     ]
    }
   ],
   "source": [
    "print('Shape of X:', x.shape)\n",
    "print('Shape of Y:', y.shape)\n"
   ]
  },
  {
   "cell_type": "code",
   "execution_count": 117,
   "id": "bd9215d2",
   "metadata": {},
   "outputs": [
    {
     "data": {
      "text/plain": [
       "array([[1, 2, 3],\n",
       "       [1, 2, 3],\n",
       "       [1, 2, 3]])"
      ]
     },
     "execution_count": 117,
     "metadata": {},
     "output_type": "execute_result"
    }
   ],
   "source": [
    "naive_broadcast(x,y)"
   ]
  },
  {
   "cell_type": "code",
   "execution_count": 119,
   "id": "b7d7728e",
   "metadata": {},
   "outputs": [],
   "source": [
    "x = np.random.random((64,3,32,10))\n",
    "y = np.random.random((32, 10))"
   ]
  },
  {
   "cell_type": "code",
   "execution_count": 121,
   "id": "0bac43f3",
   "metadata": {},
   "outputs": [],
   "source": [
    "z = np.maximum(x,y)"
   ]
  },
  {
   "cell_type": "code",
   "execution_count": 122,
   "id": "af427fa1",
   "metadata": {},
   "outputs": [
    {
     "data": {
      "text/plain": [
       "(64, 3, 32, 10)"
      ]
     },
     "execution_count": 122,
     "metadata": {},
     "output_type": "execute_result"
    }
   ],
   "source": [
    "z.shape"
   ]
  },
  {
   "cell_type": "code",
   "execution_count": 152,
   "id": "d3c5bab0",
   "metadata": {},
   "outputs": [],
   "source": [
    "# Tensor dot\n",
    "def naive_vector_dot(x, y):\n",
    "    assert len(x.shape) == 1\n",
    "    assert len(y.shape) == 1\n",
    "    assert x.shape[0] == y.shape[0]\n",
    "    z = 0\n",
    "    for i in range(x.shape[0]):\n",
    "        z += x[i]*y[i]\n",
    "    return z"
   ]
  },
  {
   "cell_type": "code",
   "execution_count": 153,
   "id": "18630bf6",
   "metadata": {},
   "outputs": [],
   "source": [
    "x = np.array([1,2,3])\n",
    "y = np.array([2,1,3])"
   ]
  },
  {
   "cell_type": "code",
   "execution_count": 154,
   "id": "4388806d",
   "metadata": {},
   "outputs": [
    {
     "data": {
      "text/plain": [
       "13"
      ]
     },
     "execution_count": 154,
     "metadata": {},
     "output_type": "execute_result"
    }
   ],
   "source": [
    "naive_vector_dot(x,y)"
   ]
  },
  {
   "cell_type": "code",
   "execution_count": 174,
   "id": "131dd8d6",
   "metadata": {},
   "outputs": [],
   "source": [
    "def matrix_vector_dot(x, y):\n",
    "    \"\"\"\n",
    "    x is a 2D tensor and y is a vector\n",
    "    \"\"\"\n",
    "    assert len(x.shape) == 2\n",
    "    assert len(y.shape) == 1\n",
    "    assert y.shape[0] == x.shape[1]\n",
    "    \n",
    "    z = np.zeros(x.shape[0])\n",
    "    for i in range(x.shape[0]):\n",
    "        for j in range(x.shape[1]):\n",
    "            z[i] += x[i,j]*y[j]\n",
    "    return z\n",
    "\n",
    "def matrix_vector_dot2(x,y):\n",
    "    z = np.zeros(x.shape[0])\n",
    "    for i in range(x.shape[0]):\n",
    "        z[i] = naive_vector_dot(x[i, :], y)\n",
    "    return z"
   ]
  },
  {
   "cell_type": "code",
   "execution_count": 175,
   "id": "0593e3ba",
   "metadata": {},
   "outputs": [
    {
     "data": {
      "text/plain": [
       "(3, 3)"
      ]
     },
     "execution_count": 175,
     "metadata": {},
     "output_type": "execute_result"
    }
   ],
   "source": [
    "x = np.array([[1,-2,3],\n",
    "              [2,3,4],\n",
    "              [3,-4,5]])\n",
    "x.shape"
   ]
  },
  {
   "cell_type": "code",
   "execution_count": 176,
   "id": "0976ad1b",
   "metadata": {},
   "outputs": [
    {
     "data": {
      "text/plain": [
       "(3,)"
      ]
     },
     "execution_count": 176,
     "metadata": {},
     "output_type": "execute_result"
    }
   ],
   "source": [
    "y = np.array([1,2,3])\n",
    "y.shape"
   ]
  },
  {
   "cell_type": "code",
   "execution_count": 177,
   "id": "912dce74",
   "metadata": {},
   "outputs": [
    {
     "data": {
      "text/plain": [
       "array([ 6, 20, 10])"
      ]
     },
     "execution_count": 177,
     "metadata": {},
     "output_type": "execute_result"
    }
   ],
   "source": [
    "matrix_vector_dot(x,y).astype('int32')"
   ]
  },
  {
   "cell_type": "code",
   "execution_count": 178,
   "id": "94f51eba",
   "metadata": {},
   "outputs": [
    {
     "data": {
      "text/plain": [
       "array([ 6, 20, 10])"
      ]
     },
     "execution_count": 178,
     "metadata": {},
     "output_type": "execute_result"
    }
   ],
   "source": [
    "matrix_vector_dot2(x,y).astype('int32')"
   ]
  },
  {
   "cell_type": "code",
   "execution_count": 180,
   "id": "97e6d66a",
   "metadata": {},
   "outputs": [],
   "source": [
    "# Tensor dot product\n",
    "def naive_matrix_dot(x, y):\n",
    "    assert len(x.shape) == 2\n",
    "    assert len(y.shape) == 2\n",
    "    assert x.shape[1] == y.shape[0]\n",
    "    \n",
    "    z = np.zeros((x.shape[0], y.shape[1]))\n",
    "    for i in range(x.shape[0]):\n",
    "        for j in range(y.shape[1]):\n",
    "            row_x = x[i,:]\n",
    "            column_y = y[:, j]\n",
    "            z[i,j] = naive_vector_dot(row_x , column_y)\n",
    "    return z"
   ]
  },
  {
   "cell_type": "code",
   "execution_count": 184,
   "id": "18228293",
   "metadata": {},
   "outputs": [],
   "source": [
    "x = np.array([[1,-2,3,4],\n",
    "              [2,3,4,5],\n",
    "              [3,-4,5,2]])\n",
    "u = np.array([[1,-2,3],\n",
    "              [2,3,4],\n",
    "              [3,-4,5],\n",
    "              [0,2,7]])"
   ]
  },
  {
   "cell_type": "code",
   "execution_count": 185,
   "id": "776b029f",
   "metadata": {},
   "outputs": [
    {
     "data": {
      "text/plain": [
       "array([[  6, -12,  38],\n",
       "       [ 20,  -1,  73],\n",
       "       [ 10, -34,  32]])"
      ]
     },
     "execution_count": 185,
     "metadata": {},
     "output_type": "execute_result"
    }
   ],
   "source": [
    "naive_matrix_dot(x,u).astype('int32')"
   ]
  },
  {
   "cell_type": "code",
   "execution_count": 186,
   "id": "eb1d3c38",
   "metadata": {},
   "outputs": [],
   "source": [
    "# Tensor reshaping\n",
    "\n",
    "x = np.array([[0,1],\n",
    "              [2,3],\n",
    "              [4,5]])"
   ]
  },
  {
   "cell_type": "code",
   "execution_count": 187,
   "id": "39fd7d01",
   "metadata": {},
   "outputs": [
    {
     "data": {
      "text/plain": [
       "(3, 2)"
      ]
     },
     "execution_count": 187,
     "metadata": {},
     "output_type": "execute_result"
    }
   ],
   "source": [
    "x.shape"
   ]
  },
  {
   "cell_type": "code",
   "execution_count": 191,
   "id": "81a71bb0",
   "metadata": {},
   "outputs": [
    {
     "data": {
      "text/plain": [
       "(6, 1)"
      ]
     },
     "execution_count": 191,
     "metadata": {},
     "output_type": "execute_result"
    }
   ],
   "source": [
    "x.reshape(6,1).shape"
   ]
  },
  {
   "cell_type": "markdown",
   "id": "040785fb",
   "metadata": {},
   "source": [
    "### Gradient based optimization"
   ]
  },
  {
   "cell_type": "code",
   "execution_count": 195,
   "id": "47156c90",
   "metadata": {},
   "outputs": [
    {
     "data": {
      "text/plain": [
       "3"
      ]
     },
     "execution_count": 195,
     "metadata": {},
     "output_type": "execute_result"
    }
   ],
   "source": [
    "import os\n",
    "len(os.listdir())"
   ]
  },
  {
   "cell_type": "code",
   "execution_count": 3,
   "id": "2bdc7af9",
   "metadata": {},
   "outputs": [],
   "source": [
    "from tensorflow.keras.datasets import imdb"
   ]
  },
  {
   "cell_type": "code",
   "execution_count": 4,
   "id": "03d4ea96",
   "metadata": {},
   "outputs": [
    {
     "name": "stdout",
     "output_type": "stream",
     "text": [
      "Downloading data from https://storage.googleapis.com/tensorflow/tf-keras-datasets/imdb.npz\n",
      "17465344/17464789 [==============================] - 334s 19us/step\n"
     ]
    }
   ],
   "source": [
    "(train_data, train_labels), (test_data, test_labels) = imdb.load_data(num_words=10000, path='imdb.npz')"
   ]
  },
  {
   "cell_type": "code",
   "execution_count": 7,
   "id": "7681a2eb",
   "metadata": {},
   "outputs": [
    {
     "name": "stdout",
     "output_type": "stream",
     "text": [
      "Downloading data from https://storage.googleapis.com/tensorflow/tf-keras-datasets/reuters.npz\n",
      "2113536/2110848 [==============================] - 54s 26us/step\n"
     ]
    }
   ],
   "source": [
    "from tensorflow.keras.datasets import reuters\n",
    "(train_data1, train_labels1), (test_data1, test_labels1) = reuters.load_data(num_words=10000, path='reuters.npz')"
   ]
  },
  {
   "cell_type": "code",
   "execution_count": 8,
   "id": "0e8c0e1b",
   "metadata": {},
   "outputs": [],
   "source": [
    "import sklearn\n",
    "from sklearn.datasets import load_digits"
   ]
  },
  {
   "cell_type": "code",
   "execution_count": 10,
   "id": "275e800e",
   "metadata": {},
   "outputs": [],
   "source": [
    "data, target = load_digits().data, load_digits().target"
   ]
  },
  {
   "cell_type": "code",
   "execution_count": 15,
   "id": "558e6b9a",
   "metadata": {},
   "outputs": [],
   "source": [
    "sample = data[0]"
   ]
  },
  {
   "cell_type": "code",
   "execution_count": 18,
   "id": "2d234c47",
   "metadata": {},
   "outputs": [],
   "source": [
    "sample = sample.reshape(8,8)"
   ]
  },
  {
   "cell_type": "code",
   "execution_count": 21,
   "id": "f72e6f44",
   "metadata": {},
   "outputs": [
    {
     "data": {
      "text/plain": [
       "(8, 8)"
      ]
     },
     "execution_count": 21,
     "metadata": {},
     "output_type": "execute_result"
    }
   ],
   "source": [
    "sample.shape "
   ]
  },
  {
   "cell_type": "code",
   "execution_count": 23,
   "id": "02e3d14d",
   "metadata": {},
   "outputs": [
    {
     "data": {
      "text/plain": [
       "27000100"
      ]
     },
     "execution_count": 23,
     "metadata": {},
     "output_type": "execute_result"
    }
   ],
   "source": [
    "(300*300*3 * 100) + 100"
   ]
  },
  {
   "cell_type": "code",
   "execution_count": 24,
   "id": "ac2c3c72",
   "metadata": {},
   "outputs": [
    {
     "data": {
      "text/plain": [
       "56"
      ]
     },
     "execution_count": 24,
     "metadata": {},
     "output_type": "execute_result"
    }
   ],
   "source": [
    "63-7"
   ]
  },
  {
   "cell_type": "code",
   "execution_count": 25,
   "id": "30026ef9",
   "metadata": {},
   "outputs": [
    {
     "data": {
      "text/plain": [
       "28.0"
      ]
     },
     "execution_count": 25,
     "metadata": {},
     "output_type": "execute_result"
    }
   ],
   "source": [
    "56/2"
   ]
  },
  {
   "cell_type": "code",
   "execution_count": null,
   "id": "4b58d37e",
   "metadata": {},
   "outputs": [],
   "source": []
  }
 ],
 "metadata": {
  "kernelspec": {
   "display_name": "Python 3 (ipykernel)",
   "language": "python",
   "name": "python3"
  },
  "language_info": {
   "codemirror_mode": {
    "name": "ipython",
    "version": 3
   },
   "file_extension": ".py",
   "mimetype": "text/x-python",
   "name": "python",
   "nbconvert_exporter": "python",
   "pygments_lexer": "ipython3",
   "version": "3.9.7"
  }
 },
 "nbformat": 4,
 "nbformat_minor": 5
}
